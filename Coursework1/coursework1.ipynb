{
 "cells": [
  {
   "cell_type": "code",
   "execution_count": 2,
   "metadata": {},
   "outputs": [],
   "source": [
    "import numpy as np\n",
    "import matplotlib.pyplot as plt"
   ]
  },
  {
   "cell_type": "markdown",
   "metadata": {},
   "source": [
    "### Helper Functions"
   ]
  },
  {
   "cell_type": "code",
   "execution_count": 174,
   "metadata": {},
   "outputs": [],
   "source": [
    "def R(W, alpha):\n",
    "    eValues,_ = np.linalg.eig(W)\n",
    "    abscissa = max(eValues)\n",
    "\n",
    "    return np.real(W * alpha/abscissa)\n",
    "\n",
    "def matrixHeatMap(matrix):\n",
    "    plt.imshow(matrix, cmap='viridis', interpolation='nearest')\n",
    "    plt.colorbar()\n",
    "    plt.title('Heatmap of Matrix')\n",
    "    plt.show()"
   ]
  },
  {
   "cell_type": "markdown",
   "metadata": {},
   "source": [
    "### V1 Model Class Definition"
   ]
  },
  {
   "cell_type": "code",
   "execution_count": 175,
   "metadata": {},
   "outputs": [],
   "source": [
    "class V1Model:\n",
    "    def __init__(self):\n",
    "        # Default parameters\n",
    "        self.tau = 0.02 #s\n",
    "        self.m = 200 # number of quantisations of angle\n",
    "        self.n = 200 # number of neurons in V1\n",
    "        self.B = None # matrix of weights applied to inputs to V1 dynamics, h(theta)\n",
    "        self.C = None # matrix of output weights applied to outputs from V1 dynamics\n",
    "        self.sigma = 1 # amplitude of noise applied to V1 dynamics output\n",
    "        self.kappa = np.pi/4 # reciprocal exponential scaling factor applied to angles to give h(theta)\n",
    "        self.alpha = 0.9 # scale given to abscissa of W\n",
    "        self.alpha2 = 0.9 # secondary abscissa scale of W\n",
    "        self.W = None # connectivity matrix (inter-neuron weights)\n",
    "\n",
    "        # Modelling settings\n",
    "        self.dt = 0.001 #s timesteps\n",
    "\n",
    "        # Model variables\n",
    "        self.theta = 0\n",
    "        self.phi = np.arange(0,self.m) * 2*np.pi / self.m\n",
    "        self.h = np.zeros(self.m)\n",
    "        self.r = np.zeros(self.n)\n",
    "        self.noisyOutput = np.zeros(self.m)\n",
    "        self.thetaEst = 0\n",
    "    \n",
    "    def V(self, angle):\n",
    "        return np.exp((np.cos(angle) - 1) / self.kappa**2)\n",
    "\n",
    "    def hCalc(self):\n",
    "        self.h = self.V(self.phi - self.theta)\n",
    "    \n",
    "    def rIntegrate(self):\n",
    "        self.r = self.r + self.dt/self.tau * (-self.r + np.matmul(self.W, self.r) + np.matmul(self.B, self.h))\n",
    "\n",
    "    def calcOutput(self):\n",
    "        self.noisyOutput = np.matmul(self.C, self.r) + self.sigma*np.random.normal(0,1,self.m)\n",
    "    \n",
    "    def estimateTheta(self):\n",
    "        self.thetaEst = np.arctan(sum(self.noisyOutput * np.sin(self.phi)) / sum(self.noisyOutput * np.cos(self.phi)))\n",
    "    \n",
    "    def calcError(self):\n",
    "        self.decodeError = np.arccos(np.cos(self.thetaEst - self.theta))\n",
    "        \n",
    "    def stepTime(self):\n",
    "        self.hCalc()\n",
    "        self.rIntegrate()\n",
    "        self.calcOutput()\n",
    "        self.estimateTheta()\n",
    "        self.calcError()\n"
   ]
  },
  {
   "cell_type": "markdown",
   "metadata": {},
   "source": [
    "### Model Initiations"
   ]
  },
  {
   "cell_type": "code",
   "execution_count": 178,
   "metadata": {},
   "outputs": [],
   "source": [
    "def setModel1():\n",
    "    model1 = V1Model()\n",
    "    model1.W = np.zeros((model1.m, model1.m))\n",
    "    model1.B, model1.C = np.diag(np.ones(model1.m)), np.diag(np.ones(model1.m))\n",
    "    return model1 # default params with n = m, W = mxm matrix of 0s\n",
    "\n",
    "def setModel2():\n",
    "    model2 = V1Model() # W = rescaled random W+W.t\n",
    "    WBar2 = np.random.normal(0,1,(model2.m, model2.m))\n",
    "    model2.W = R(WBar2+WBar2.T, model2.alpha)\n",
    "    model2.B, model2.C = np.diag(np.ones(model2.m)), np.diag(np.ones(model2.m))\n",
    "    \n",
    "    return model2\n",
    "\n",
    "def setModel3():\n",
    "    model3 = V1Model() # WIJ = V(phiI - phiJ)\n",
    "    WBar3 = np.zeros((model3.m, model3.m))\n",
    "\n",
    "    for i in range(WBar3.shape[0]):\n",
    "        for j in range(WBar3.shape[1]):\n",
    "            WBar3[i,j] = model3.V(model3.phi[i] - model3.phi[j])\n",
    "\n",
    "    model3.W = R(WBar3, model3.alpha)\n",
    "    model3.B, model3.C = np.diag(np.ones(model3.m)), np.diag(np.ones(model3.m))\n",
    "    return model3\n",
    "\n",
    "def setModel4():\n",
    "    model4 = V1Model()\n",
    "\n",
    "    WBar3 = np.zeros((model4.m, model4.m))\n",
    "    for i in range(WBar3.shape[0]):\n",
    "        for j in range(WBar3.shape[1]):\n",
    "            WBar3[i,j] = model4.V(model4.phi[i] - model4.phi[j])\n",
    "    \n",
    "    model4.n = 2*model4.m\n",
    "    WBar4 = R(WBar3, model4.alpha2)\n",
    "    W = np.concatenate((WBar4, -WBar4), axis=1)\n",
    "    model4.W = np.concatenate((W, W), axis=0)\n",
    "    model4.B = np.concatenate((np.diag(np.ones(model4.m)), np.zeros((model4.m, model4.m))), axis=0)\n",
    "    model4.C = np.concatenate((np.diag(np.ones(model4.m)), np.zeros((model4.m, model4.m))), axis=1)\n",
    "    return model4"
   ]
  },
  {
   "cell_type": "code",
   "execution_count": 179,
   "metadata": {},
   "outputs": [],
   "source": [
    "model1 = setModel1()\n",
    "model2 = setModel2()\n",
    "model3 = setModel3()\n",
    "model4 = setModel4()"
   ]
  }
 ],
 "metadata": {
  "kernelspec": {
   "display_name": "base",
   "language": "python",
   "name": "python3"
  },
  "language_info": {
   "codemirror_mode": {
    "name": "ipython",
    "version": 3
   },
   "file_extension": ".py",
   "mimetype": "text/x-python",
   "name": "python",
   "nbconvert_exporter": "python",
   "pygments_lexer": "ipython3",
   "version": "3.9.13"
  }
 },
 "nbformat": 4,
 "nbformat_minor": 2
}
